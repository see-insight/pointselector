{
 "cells": [
  {
   "cell_type": "code",
   "execution_count": 2,
   "id": "eeb1c275",
   "metadata": {},
   "outputs": [],
   "source": [
    "from sklearn.datasets import fetch_lfw_people\n",
    "lfw_people = fetch_lfw_people(min_faces_per_person = 50, resize = 0.4)"
   ]
  },
  {
   "cell_type": "code",
   "execution_count": 4,
   "id": "2fb81a2f",
   "metadata": {},
   "outputs": [
    {
     "name": "stdout",
     "output_type": "stream",
     "text": [
      "Ariel Sharon\n",
      "Colin Powell\n",
      "Donald Rumsfeld\n",
      "George W Bush\n",
      "Gerhard Schroeder\n",
      "Hugo Chavez\n",
      "Jacques Chirac\n",
      "Jean Chretien\n",
      "John Ashcroft\n",
      "Junichiro Koizumi\n",
      "Serena Williams\n",
      "Tony Blair\n"
     ]
    }
   ],
   "source": [
    "for name in lfw_people.target_names:\n",
    "    print(name)"
   ]
  },
  {
   "cell_type": "code",
   "execution_count": 6,
   "id": "8cf5b9a3",
   "metadata": {},
   "outputs": [
    {
     "data": {
      "text/plain": [
       "sklearn.utils.Bunch"
      ]
     },
     "execution_count": 6,
     "metadata": {},
     "output_type": "execute_result"
    }
   ],
   "source": [
    "type(lfw_people)"
   ]
  },
  {
   "cell_type": "code",
   "execution_count": 7,
   "id": "35263dc0",
   "metadata": {},
   "outputs": [
    {
     "data": {
      "text/plain": [
       "['DESCR', 'data', 'images', 'target', 'target_names']"
      ]
     },
     "execution_count": 7,
     "metadata": {},
     "output_type": "execute_result"
    }
   ],
   "source": [
    "dir(lfw_people)"
   ]
  },
  {
   "cell_type": "code",
   "execution_count": 8,
   "id": "3e9c6441",
   "metadata": {},
   "outputs": [
    {
     "name": "stdout",
     "output_type": "stream",
     "text": [
      "data\n",
      "images\n",
      "target\n",
      "target_names\n",
      "DESCR\n"
     ]
    }
   ],
   "source": [
    "for item in lfw_people:\n",
    "    print(item)"
   ]
  },
  {
   "cell_type": "code",
   "execution_count": null,
   "id": "b7585812",
   "metadata": {},
   "outputs": [],
   "source": []
  }
 ],
 "metadata": {
  "kernelspec": {
   "display_name": "Python 3 (ipykernel)",
   "language": "python",
   "name": "python3"
  },
  "language_info": {
   "codemirror_mode": {
    "name": "ipython",
    "version": 3
   },
   "file_extension": ".py",
   "mimetype": "text/x-python",
   "name": "python",
   "nbconvert_exporter": "python",
   "pygments_lexer": "ipython3",
   "version": "3.9.6"
  }
 },
 "nbformat": 4,
 "nbformat_minor": 5
}
