{
 "cells": [
  {
   "cell_type": "markdown",
   "metadata": {},
   "source": [
    " <p style=\"text-align: right;\"> &#9989; Put your name here</p>"
   ]
  },
  {
   "cell_type": "markdown",
   "metadata": {},
   "source": [
    "# Pre-Class Assignment: Practice\n",
    "\n",
    "In todays pre-class assignment you are going to practice what we have learned.  "
   ]
  },
  {
   "cell_type": "markdown",
   "metadata": {},
   "source": [
    "# Goals for today's pre-class assignment \n",
    "\n",
    "</p>\n",
    "\n",
    "1. topic\n",
    "1. Assignment Wrap-up"
   ]
  },
  {
   "cell_type": "code",
   "execution_count": 4,
   "metadata": {},
   "outputs": [
    {
     "ename": "ImportError",
     "evalue": "cannot import name 'imread' from 'scipy.misc' (C:\\Users\\Owner\\Desktop\\XSEDE\\see-segment\\envs\\lib\\site-packages\\scipy\\misc\\__init__.py)",
     "output_type": "error",
     "traceback": [
      "\u001b[1;31m---------------------------------------------------------------------------\u001b[0m",
      "\u001b[1;31mImportError\u001b[0m                               Traceback (most recent call last)",
      "\u001b[1;32m~\\AppData\\Local\\Temp/ipykernel_3452/1758701713.py\u001b[0m in \u001b[0;36m<module>\u001b[1;34m\u001b[0m\n\u001b[0;32m      2\u001b[0m \u001b[0mget_ipython\u001b[0m\u001b[1;33m(\u001b[0m\u001b[1;33m)\u001b[0m\u001b[1;33m.\u001b[0m\u001b[0mrun_line_magic\u001b[0m\u001b[1;33m(\u001b[0m\u001b[1;34m'matplotlib'\u001b[0m\u001b[1;33m,\u001b[0m \u001b[1;34m'inline'\u001b[0m\u001b[1;33m)\u001b[0m\u001b[1;33m\u001b[0m\u001b[1;33m\u001b[0m\u001b[0m\n\u001b[0;32m      3\u001b[0m \u001b[1;32mimport\u001b[0m \u001b[0mmatplotlib\u001b[0m\u001b[1;33m.\u001b[0m\u001b[0mpyplot\u001b[0m \u001b[1;32mas\u001b[0m \u001b[0mplt\u001b[0m\u001b[1;33m\u001b[0m\u001b[1;33m\u001b[0m\u001b[0m\n\u001b[1;32m----> 4\u001b[1;33m \u001b[1;32mfrom\u001b[0m \u001b[0mscipy\u001b[0m\u001b[1;33m.\u001b[0m\u001b[0mmisc\u001b[0m \u001b[1;32mimport\u001b[0m \u001b[0mimread\u001b[0m\u001b[1;33m,\u001b[0m \u001b[0mimsave\u001b[0m\u001b[1;33m\u001b[0m\u001b[1;33m\u001b[0m\u001b[0m\n\u001b[0m\u001b[0;32m      5\u001b[0m \u001b[1;32mfrom\u001b[0m \u001b[0murllib\u001b[0m\u001b[1;33m.\u001b[0m\u001b[0mrequest\u001b[0m \u001b[1;32mimport\u001b[0m \u001b[0murlopen\u001b[0m\u001b[1;33m\u001b[0m\u001b[1;33m\u001b[0m\u001b[0m\n\u001b[0;32m      6\u001b[0m \u001b[1;33m\u001b[0m\u001b[0m\n",
      "\u001b[1;31mImportError\u001b[0m: cannot import name 'imread' from 'scipy.misc' (C:\\Users\\Owner\\Desktop\\XSEDE\\see-segment\\envs\\lib\\site-packages\\scipy\\misc\\__init__.py)"
     ]
    }
   ],
   "source": [
    "# Read data for this assignment\n",
    "%matplotlib inline \n",
    "import matplotlib.pyplot as plt\n",
    "from scipy.misc import imread, imsave\n",
    "from urllib.request import urlopen\n",
    "\n",
    "url1 = 'http://res.cloudinary.com/miles-extranet-dev/image/upload/ar_16:9,c_fill,w_1000,g_face,q_50/Michigan/migration_photos/G21696/G21696-msubeaumonttower01.jpg'\n",
    "with urlopen(url1) as file:\n",
    "    im1 = imread(file, mode='RGB')\n",
    "url2 = 'http://msutoday.msu.edu/_/img/assets/2013/beaumont-spring-1.jpg'\n",
    "with urlopen(url2) as file:\n",
    "    im2 = imread(file, mode='RGB')\n",
    "    \n",
    "f, (ax1, ax2) = plt.subplots(1, 2,figsize=(20,10))\n",
    "ax1.imshow(im1)\n",
    "ax2.imshow(im2)"
   ]
  },
  {
   "cell_type": "markdown",
   "metadata": {},
   "source": [
    "----\n",
    "# 1. Point Seleciton"
   ]
  },
  {
   "cell_type": "code",
   "execution_count": 5,
   "metadata": {},
   "outputs": [
    {
     "name": "stdout",
     "output_type": "stream",
     "text": [
      "Collecting mpld3\n",
      "  Downloading mpld3-0.5.5.tar.gz (1.0 MB)\n",
      "Collecting jinja2\n",
      "  Downloading Jinja2-3.0.2-py3-none-any.whl (133 kB)\n",
      "Collecting matplotlib\n",
      "  Downloading matplotlib-3.4.3-cp39-cp39-win_amd64.whl (7.1 MB)\n",
      "Collecting MarkupSafe>=2.0\n",
      "  Downloading MarkupSafe-2.0.1-cp39-cp39-win_amd64.whl (14 kB)\n",
      "Collecting python-dateutil>=2.7\n",
      "  Downloading python_dateutil-2.8.2-py2.py3-none-any.whl (247 kB)\n",
      "Collecting pyparsing>=2.2.1\n",
      "  Downloading pyparsing-2.4.7-py2.py3-none-any.whl (67 kB)\n",
      "Collecting pillow>=6.2.0\n",
      "  Downloading Pillow-8.4.0-cp39-cp39-win_amd64.whl (3.2 MB)\n",
      "Collecting cycler>=0.10\n",
      "  Downloading cycler-0.10.0-py2.py3-none-any.whl (6.5 kB)\n",
      "Collecting kiwisolver>=1.0.1\n",
      "  Downloading kiwisolver-1.3.2-cp39-cp39-win_amd64.whl (52 kB)\n",
      "Collecting numpy>=1.16\n",
      "  Downloading numpy-1.21.3-cp39-cp39-win_amd64.whl (14.0 MB)\n",
      "Collecting six\n",
      "  Downloading six-1.16.0-py2.py3-none-any.whl (11 kB)\n",
      "Building wheels for collected packages: mpld3\n",
      "  Building wheel for mpld3 (setup.py): started\n",
      "  Building wheel for mpld3 (setup.py): finished with status 'done'\n",
      "  Created wheel for mpld3: filename=mpld3-0.5.5-py3-none-any.whl size=200886 sha256=92ce84322a8357effb323059fc276b9df28bb02b05463dc5731527cbdc4ccc16\n",
      "  Stored in directory: c:\\users\\owner\\appdata\\local\\pip\\cache\\wheels\\d9\\ed\\51\\ac5c5c9f2f8105b101482c066a31f9e71a9eef9c2fd6379bdd\n",
      "Successfully built mpld3\n",
      "Installing collected packages: six, python-dateutil, pyparsing, pillow, numpy, MarkupSafe, kiwisolver, cycler, matplotlib, jinja2, mpld3\n",
      "Successfully installed MarkupSafe-2.0.1 cycler-0.10.0 jinja2-3.0.2 kiwisolver-1.3.2 matplotlib-3.4.3 mpld3-0.5.5 numpy-1.21.3 pillow-8.4.0 pyparsing-2.4.7 python-dateutil-2.8.2 six-1.16.0\n"
     ]
    }
   ],
   "source": [
    "# The following command will install mpld3 - Uncomment and run once.\n",
    "\n",
    "!pip install -t ./packages mpld3 "
   ]
  },
  {
   "cell_type": "code",
   "execution_count": 6,
   "metadata": {},
   "outputs": [
    {
     "name": "stdout",
     "output_type": "stream",
     "text": [
      "adding packages\n"
     ]
    }
   ],
   "source": [
    "#Add Packages folder to path (Do only once per run of notebook:\n",
    "from sys import path\n",
    "package_folder = './packages'\n",
    "if not package_folder in path:\n",
    "    print('adding packages')\n",
    "    path.append(package_folder)\n",
    "else:\n",
    "    print('found packages folder')"
   ]
  },
  {
   "cell_type": "code",
   "execution_count": 7,
   "metadata": {},
   "outputs": [],
   "source": [
    "# Code snipit to make point seleciton function (REQUIRES mpld3 installed)\n",
    "%matplotlib inline \n",
    "import matplotlib.pyplot as plt\n",
    "import matplotlib.image as img\n",
    "import sys\n",
    "\n",
    "import mpld3\n",
    "from mpld3 import plugins\n",
    "mpld3.enable_notebook()\n",
    "\n",
    "# PLOTS THE IMAGE IN THE NOTEBOOK\n",
    "def plot(imgname):\n",
    "    fig, ax = plt.subplots()\n",
    "    im = img.imread(imgname)\n",
    "    plt.imshow(im, origin='lower')\n",
    "    return fig\n",
    "\n",
    "# FUNCTION CALLED IN THE NOTEBOOK\n",
    "def pickpoints(fig='', radius=4, color=\"white\", x = 'x', y = 'y'):\n",
    "    if not fig:\n",
    "        fig = plt.gcf()\n",
    "    plugins.connect(fig, Annotate(radius, color, x, y)) # color='htmlcolorname', radius=int\n",
    "    plugins.connect(fig, plugins.MousePosition())\n",
    "\n",
    "# FORMATS x AND y LISTS INTO SHORTER DECIMALS, SO THEY'RE NOT TOO LENGTHY\n",
    "def cleanformat(var):\n",
    "    varlist = []\n",
    "    if type(var) == float:\n",
    "        varlist = '{:05.2f}'.format(var)\n",
    "    else:\n",
    "        for i in range(len(var)):\n",
    "            varlist.append('{:05.2f}'.format(var[i]))\n",
    "    return varlist\n",
    "\n",
    "# MAIN CLASS THAT CONTAINS JAVASCRIPT CODE TO CREATE CIRCLES AND DRAG CIRCLES  \n",
    "class Annotate(plugins.PluginBase):\n",
    "    \"\"\"A plugin that creates points in a figure by clicking the mouse\"\"\"\n",
    "   \n",
    "    JAVASCRIPT = r\"\"\"\n",
    "    mpld3.register_plugin(\"annotate\", Annotate);\n",
    "    Annotate.prototype = Object.create(mpld3.Plugin.prototype);\n",
    "    Annotate.prototype.constructor = Annotate;\n",
    "    Annotate.prototype.requiredProps = [];\n",
    "    Annotate.prototype.defaultProps = {radius: 4, color: \"white\", x: 'x', y: 'y'};\n",
    "    function Annotate(fig, props){\n",
    "        mpld3.Plugin.call(this, fig, props);\n",
    "    };\n",
    "\n",
    "    Annotate.prototype.draw = function(){\n",
    "        \n",
    "        /// NECESSARY STARTUP VARIABLES ///\n",
    "        \n",
    "        var fig = this.fig;\n",
    "        var ax = fig.axes;\n",
    "        var dataset = [];\n",
    "        var svg = d3.select(\".mpld3-figure\");   // existing svg element\n",
    "        var radius = this.props.radius;\n",
    "        var color = this.props.color;\n",
    "        var x = this.props.x;\n",
    "        var y = this.props.y;\n",
    "        var ax = fig.axes[0];\n",
    "        \n",
    "        \n",
    "        /// INDEXES HTML DOC TO PULL VALUES FOR x,y CALIBRATION ///\n",
    "        var xcal = this.parent.axes[0].position[0];\n",
    "        var ycal = this.parent.axes[0].position[1];\n",
    "        console.log('x calibration: ' + xcal);\n",
    "        console.log('y calibration: ' + ycal);\n",
    "        \n",
    "        var xcommand = x+\" = []\";\n",
    "        IPython.notebook.kernel.execute(xcommand);\n",
    "        var ycommand = y+\" = []\";\n",
    "        IPython.notebook.kernel.execute(ycommand);\n",
    "        \n",
    "        \n",
    "        ////////// CREATE POINT COMPONENT //////////\n",
    "        \n",
    "        var update_coords = function() {\n",
    "        \n",
    "            return function() {\n",
    "                var pos = d3.mouse(this),\n",
    "                    xpos = ax.x.invert(pos[0]),\n",
    "                    ypos = ax.y.invert(pos[1]);\n",
    "                    \n",
    "                var newpoint = {\n",
    "                    cx: pos[0] + xcal,\n",
    "                    cy: pos[1] + ycal,\n",
    "                    r: radius,\n",
    "                    fill: color\n",
    "                };\n",
    "                dataset.push(newpoint);\n",
    "                \n",
    "                var circles = svg.selectAll(\"circle\")\n",
    "                    .data(dataset)\n",
    "                    .enter()\n",
    "                    .append(\"circle\")\n",
    "                    .attr(newpoint)\n",
    "                    .call(drag);\n",
    "                       \n",
    "                var xcommand = x+\".append(\"+xpos+\")\";\n",
    "                IPython.notebook.kernel.execute(xcommand);\n",
    "                console.log(xcommand);\n",
    "                var ycommand = y+\".append(\"+ypos+\")\";\n",
    "                IPython.notebook.kernel.execute(ycommand);\n",
    "                console.log(ycommand);\n",
    "                   \n",
    "            };\n",
    "        }();\n",
    "        ax.baseaxes\n",
    "            .on(\"mousedown\", update_coords);\n",
    "\n",
    "        \n",
    "        \n",
    "        ////////// DRAG POINT COMPONENT //////////\n",
    "        \n",
    "        var drag = d3.behavior.drag()\n",
    "            .on(\"dragstart\", dragstarted)\n",
    "            .on(\"drag\", dragged)\n",
    "            .on(\"dragend\", dragended);\n",
    "            \n",
    "        function dragstarted(d) {\n",
    "             d3.event.sourceEvent.stopPropagation();\n",
    "             d3.select(this).classed(\"dragging\", true);\n",
    "        }\n",
    "        \n",
    "        function dragged(d) {\n",
    "             d3.select(this).attr(\"cx\", d3.event.x)\n",
    "                            .attr(\"cy\", d3.event.y);             \n",
    "        }\n",
    "\n",
    "        function dragended(d, i) {\n",
    "             d3.event.sourceEvent.stopPropagation();\n",
    "             d3.select(this).classed(\"dragging\", false);\n",
    "             var calib_cx = d3.select(this)[0][0].cx.animVal.value - xcal;\n",
    "             var calib_cy = d3.select(this)[0][0].cy.animVal.value - ycal;\n",
    "             var xcommand = x+\"[\"+i+\"] = \"+ax.x.invert(calib_cx);\n",
    "             var ycommand = y+\"[\"+i+\"] = \"+ax.y.invert(calib_cy);\n",
    "             IPython.notebook.kernel.execute(xcommand);\n",
    "             IPython.notebook.kernel.execute(ycommand);\n",
    "             console.log(xcommand);\n",
    "             console.log(ycommand);\n",
    "        }\n",
    "\n",
    "\n",
    "    };\"\"\"\n",
    "\n",
    "    def __init__(self, radius=4, color=\"white\", x ='x', y ='y'):\n",
    "        self.dict_ = {\"type\": \"annotate\",\n",
    "                      \"radius\": radius,\n",
    "                      \"color\": color,\n",
    "                      \"x\": x,\n",
    "                      \"y\": y};"
   ]
  },
  {
   "cell_type": "code",
   "execution_count": 8,
   "metadata": {
    "scrolled": true
   },
   "outputs": [
    {
     "ename": "NameError",
     "evalue": "name 'im1' is not defined",
     "output_type": "error",
     "traceback": [
      "\u001b[1;31m---------------------------------------------------------------------------\u001b[0m",
      "\u001b[1;31mNameError\u001b[0m                                 Traceback (most recent call last)",
      "\u001b[1;32m~\\AppData\\Local\\Temp/ipykernel_3452/2228841785.py\u001b[0m in \u001b[0;36m<module>\u001b[1;34m\u001b[0m\n\u001b[0;32m      1\u001b[0m \u001b[0mfig\u001b[0m \u001b[1;33m=\u001b[0m \u001b[0mplt\u001b[0m\u001b[1;33m.\u001b[0m\u001b[0mfigure\u001b[0m\u001b[1;33m(\u001b[0m\u001b[0mfigsize\u001b[0m\u001b[1;33m=\u001b[0m\u001b[1;33m(\u001b[0m\u001b[1;36m9\u001b[0m\u001b[1;33m,\u001b[0m\u001b[1;36m6\u001b[0m\u001b[1;33m)\u001b[0m\u001b[1;33m)\u001b[0m\u001b[1;33m\u001b[0m\u001b[1;33m\u001b[0m\u001b[0m\n\u001b[1;32m----> 2\u001b[1;33m \u001b[0mplt\u001b[0m\u001b[1;33m.\u001b[0m\u001b[0mimshow\u001b[0m\u001b[1;33m(\u001b[0m\u001b[0mim1\u001b[0m\u001b[1;33m)\u001b[0m\u001b[1;33m\u001b[0m\u001b[1;33m\u001b[0m\u001b[0m\n\u001b[0m\u001b[0;32m      3\u001b[0m \u001b[0mpickpoints\u001b[0m\u001b[1;33m(\u001b[0m\u001b[0mcolor\u001b[0m\u001b[1;33m=\u001b[0m\u001b[1;34m'cyan'\u001b[0m\u001b[1;33m,\u001b[0m \u001b[0mradius\u001b[0m\u001b[1;33m=\u001b[0m\u001b[1;36m2\u001b[0m\u001b[1;33m,\u001b[0m \u001b[0mx\u001b[0m\u001b[1;33m=\u001b[0m\u001b[1;34m'x1'\u001b[0m\u001b[1;33m,\u001b[0m \u001b[0my\u001b[0m\u001b[1;33m=\u001b[0m\u001b[1;34m'y1'\u001b[0m\u001b[1;33m)\u001b[0m\u001b[1;33m\u001b[0m\u001b[1;33m\u001b[0m\u001b[0m\n",
      "\u001b[1;31mNameError\u001b[0m: name 'im1' is not defined"
     ]
    },
    {
     "data": {
      "text/html": [
       "\n",
       "\n",
       "<style>\n",
       "\n",
       "</style>\n",
       "\n",
       "<div id=\"fig_el345221006870846566709133504\"></div>\n",
       "<script>\n",
       "function mpld3_load_lib(url, callback){\n",
       "  var s = document.createElement('script');\n",
       "  s.src = url;\n",
       "  s.async = true;\n",
       "  s.onreadystatechange = s.onload = callback;\n",
       "  s.onerror = function(){console.warn(\"failed to load library \" + url);};\n",
       "  document.getElementsByTagName(\"head\")[0].appendChild(s);\n",
       "}\n",
       "\n",
       "if(typeof(mpld3) !== \"undefined\" && mpld3._mpld3IsLoaded){\n",
       "   // already loaded: just create the figure\n",
       "   !function(mpld3){\n",
       "       \n",
       "       mpld3.draw_figure(\"fig_el345221006870846566709133504\", {\"width\": 648.0, \"height\": 432.0, \"axes\": [], \"data\": {}, \"id\": \"el34522100687084656\", \"plugins\": [{\"type\": \"reset\"}, {\"type\": \"zoom\", \"button\": true, \"enabled\": false}, {\"type\": \"boxzoom\", \"button\": true, \"enabled\": false}]});\n",
       "   }(mpld3);\n",
       "}else if(typeof define === \"function\" && define.amd){\n",
       "   // require.js is available: use it to load d3/mpld3\n",
       "   require.config({paths: {d3: \"https://d3js.org/d3.v5\"}});\n",
       "   require([\"d3\"], function(d3){\n",
       "      window.d3 = d3;\n",
       "      mpld3_load_lib(\"https://mpld3.github.io/js/mpld3.v0.5.5.js\", function(){\n",
       "         \n",
       "         mpld3.draw_figure(\"fig_el345221006870846566709133504\", {\"width\": 648.0, \"height\": 432.0, \"axes\": [], \"data\": {}, \"id\": \"el34522100687084656\", \"plugins\": [{\"type\": \"reset\"}, {\"type\": \"zoom\", \"button\": true, \"enabled\": false}, {\"type\": \"boxzoom\", \"button\": true, \"enabled\": false}]});\n",
       "      });\n",
       "    });\n",
       "}else{\n",
       "    // require.js not available: dynamically load d3 & mpld3\n",
       "    mpld3_load_lib(\"https://d3js.org/d3.v5.js\", function(){\n",
       "         mpld3_load_lib(\"https://mpld3.github.io/js/mpld3.v0.5.5.js\", function(){\n",
       "                 \n",
       "                 mpld3.draw_figure(\"fig_el345221006870846566709133504\", {\"width\": 648.0, \"height\": 432.0, \"axes\": [], \"data\": {}, \"id\": \"el34522100687084656\", \"plugins\": [{\"type\": \"reset\"}, {\"type\": \"zoom\", \"button\": true, \"enabled\": false}, {\"type\": \"boxzoom\", \"button\": true, \"enabled\": false}]});\n",
       "            })\n",
       "         });\n",
       "}\n",
       "</script>"
      ],
      "text/plain": [
       "<Figure size 648x432 with 0 Axes>"
      ]
     },
     "metadata": {},
     "output_type": "display_data"
    }
   ],
   "source": [
    "fig = plt.figure(figsize=(9,6))\n",
    "plt.imshow(im1)\n",
    "pickpoints(color='cyan', radius=2, x='x1', y='y1')"
   ]
  },
  {
   "cell_type": "code",
   "execution_count": 9,
   "metadata": {},
   "outputs": [
    {
     "ename": "NameError",
     "evalue": "name 'im2' is not defined",
     "output_type": "error",
     "traceback": [
      "\u001b[1;31m---------------------------------------------------------------------------\u001b[0m",
      "\u001b[1;31mNameError\u001b[0m                                 Traceback (most recent call last)",
      "\u001b[1;32m~\\AppData\\Local\\Temp/ipykernel_3452/1887503905.py\u001b[0m in \u001b[0;36m<module>\u001b[1;34m\u001b[0m\n\u001b[0;32m      1\u001b[0m \u001b[0mfig\u001b[0m \u001b[1;33m=\u001b[0m \u001b[0mplt\u001b[0m\u001b[1;33m.\u001b[0m\u001b[0mfigure\u001b[0m\u001b[1;33m(\u001b[0m\u001b[0mfigsize\u001b[0m\u001b[1;33m=\u001b[0m\u001b[1;33m(\u001b[0m\u001b[1;36m9\u001b[0m\u001b[1;33m,\u001b[0m\u001b[1;36m6\u001b[0m\u001b[1;33m)\u001b[0m\u001b[1;33m)\u001b[0m\u001b[1;33m\u001b[0m\u001b[1;33m\u001b[0m\u001b[0m\n\u001b[1;32m----> 2\u001b[1;33m \u001b[0mplt\u001b[0m\u001b[1;33m.\u001b[0m\u001b[0mimshow\u001b[0m\u001b[1;33m(\u001b[0m\u001b[0mim2\u001b[0m\u001b[1;33m)\u001b[0m\u001b[1;33m\u001b[0m\u001b[1;33m\u001b[0m\u001b[0m\n\u001b[0m\u001b[0;32m      3\u001b[0m \u001b[0mpickpoints\u001b[0m\u001b[1;33m(\u001b[0m\u001b[0mcolor\u001b[0m\u001b[1;33m=\u001b[0m\u001b[1;34m'cyan'\u001b[0m\u001b[1;33m,\u001b[0m \u001b[0mradius\u001b[0m\u001b[1;33m=\u001b[0m\u001b[1;36m2\u001b[0m\u001b[1;33m,\u001b[0m \u001b[0mx\u001b[0m\u001b[1;33m=\u001b[0m\u001b[1;34m'x2'\u001b[0m\u001b[1;33m,\u001b[0m \u001b[0my\u001b[0m\u001b[1;33m=\u001b[0m\u001b[1;34m'y2'\u001b[0m\u001b[1;33m)\u001b[0m\u001b[1;33m\u001b[0m\u001b[1;33m\u001b[0m\u001b[0m\n",
      "\u001b[1;31mNameError\u001b[0m: name 'im2' is not defined"
     ]
    },
    {
     "data": {
      "text/html": [
       "\n",
       "\n",
       "<style>\n",
       "\n",
       "</style>\n",
       "\n",
       "<div id=\"fig_el345221006860115522000413532\"></div>\n",
       "<script>\n",
       "function mpld3_load_lib(url, callback){\n",
       "  var s = document.createElement('script');\n",
       "  s.src = url;\n",
       "  s.async = true;\n",
       "  s.onreadystatechange = s.onload = callback;\n",
       "  s.onerror = function(){console.warn(\"failed to load library \" + url);};\n",
       "  document.getElementsByTagName(\"head\")[0].appendChild(s);\n",
       "}\n",
       "\n",
       "if(typeof(mpld3) !== \"undefined\" && mpld3._mpld3IsLoaded){\n",
       "   // already loaded: just create the figure\n",
       "   !function(mpld3){\n",
       "       \n",
       "       mpld3.draw_figure(\"fig_el345221006860115522000413532\", {\"width\": 648.0, \"height\": 432.0, \"axes\": [], \"data\": {}, \"id\": \"el34522100686011552\", \"plugins\": [{\"type\": \"reset\"}, {\"type\": \"zoom\", \"button\": true, \"enabled\": false}, {\"type\": \"boxzoom\", \"button\": true, \"enabled\": false}]});\n",
       "   }(mpld3);\n",
       "}else if(typeof define === \"function\" && define.amd){\n",
       "   // require.js is available: use it to load d3/mpld3\n",
       "   require.config({paths: {d3: \"https://d3js.org/d3.v5\"}});\n",
       "   require([\"d3\"], function(d3){\n",
       "      window.d3 = d3;\n",
       "      mpld3_load_lib(\"https://mpld3.github.io/js/mpld3.v0.5.5.js\", function(){\n",
       "         \n",
       "         mpld3.draw_figure(\"fig_el345221006860115522000413532\", {\"width\": 648.0, \"height\": 432.0, \"axes\": [], \"data\": {}, \"id\": \"el34522100686011552\", \"plugins\": [{\"type\": \"reset\"}, {\"type\": \"zoom\", \"button\": true, \"enabled\": false}, {\"type\": \"boxzoom\", \"button\": true, \"enabled\": false}]});\n",
       "      });\n",
       "    });\n",
       "}else{\n",
       "    // require.js not available: dynamically load d3 & mpld3\n",
       "    mpld3_load_lib(\"https://d3js.org/d3.v5.js\", function(){\n",
       "         mpld3_load_lib(\"https://mpld3.github.io/js/mpld3.v0.5.5.js\", function(){\n",
       "                 \n",
       "                 mpld3.draw_figure(\"fig_el345221006860115522000413532\", {\"width\": 648.0, \"height\": 432.0, \"axes\": [], \"data\": {}, \"id\": \"el34522100686011552\", \"plugins\": [{\"type\": \"reset\"}, {\"type\": \"zoom\", \"button\": true, \"enabled\": false}, {\"type\": \"boxzoom\", \"button\": true, \"enabled\": false}]});\n",
       "            })\n",
       "         });\n",
       "}\n",
       "</script>"
      ],
      "text/plain": [
       "<Figure size 648x432 with 0 Axes>"
      ]
     },
     "metadata": {},
     "output_type": "display_data"
    }
   ],
   "source": [
    "fig = plt.figure(figsize=(9,6))\n",
    "plt.imshow(im2)\n",
    "pickpoints(color='cyan', radius=2, x='x2', y='y2')"
   ]
  },
  {
   "cell_type": "markdown",
   "metadata": {},
   "source": [
    "----\n",
    "# 1. Topic one\n",
    "\n",
    "==TOPIC DESCRIPTION=="
   ]
  },
  {
   "cell_type": "code",
   "execution_count": 10,
   "metadata": {
    "scrolled": true
   },
   "outputs": [
    {
     "ename": "ModuleNotFoundError",
     "evalue": "No module named 'sympy'",
     "output_type": "error",
     "traceback": [
      "\u001b[1;31m---------------------------------------------------------------------------\u001b[0m",
      "\u001b[1;31mModuleNotFoundError\u001b[0m                       Traceback (most recent call last)",
      "\u001b[1;32m~\\AppData\\Local\\Temp/ipykernel_3452/3746908419.py\u001b[0m in \u001b[0;36m<module>\u001b[1;34m\u001b[0m\n\u001b[0;32m     12\u001b[0m \u001b[1;32mimport\u001b[0m \u001b[0mmatplotlib\u001b[0m\u001b[1;33m.\u001b[0m\u001b[0mpylab\u001b[0m \u001b[1;32mas\u001b[0m \u001b[0mplt\u001b[0m\u001b[1;33m\u001b[0m\u001b[1;33m\u001b[0m\u001b[0m\n\u001b[0;32m     13\u001b[0m \u001b[1;33m\u001b[0m\u001b[0m\n\u001b[1;32m---> 14\u001b[1;33m \u001b[1;32mimport\u001b[0m \u001b[0msympy\u001b[0m \u001b[1;32mas\u001b[0m \u001b[0msp\u001b[0m\u001b[1;33m\u001b[0m\u001b[1;33m\u001b[0m\u001b[0m\n\u001b[0m\u001b[0;32m     15\u001b[0m \u001b[0msp\u001b[0m\u001b[1;33m.\u001b[0m\u001b[0minit_printing\u001b[0m\u001b[1;33m(\u001b[0m\u001b[1;33m)\u001b[0m\u001b[1;33m\u001b[0m\u001b[1;33m\u001b[0m\u001b[0m\n\u001b[0;32m     16\u001b[0m \u001b[1;33m\u001b[0m\u001b[0m\n",
      "\u001b[1;31mModuleNotFoundError\u001b[0m: No module named 'sympy'"
     ]
    }
   ],
   "source": [
    "%matplotlib inline\n",
    "from __future__ import division\n",
    "import matplotlib.pyplot as plt\n",
    "import numpy as np\n",
    "import scipy.misc as misc\n",
    "\n",
    "\n",
    "from skimage import transform\n",
    "\n",
    "# Here are some libraries you may need to use\n",
    "%matplotlib inline\n",
    "import matplotlib.pylab as plt\n",
    "\n",
    "import sympy as sp\n",
    "sp.init_printing()\n",
    "\n",
    "import numpy as np\n",
    "\n",
    "from ipywidgets import interact\n",
    "import math\n",
    "\n"
   ]
  },
  {
   "cell_type": "code",
   "execution_count": 11,
   "metadata": {},
   "outputs": [
    {
     "ename": "NameError",
     "evalue": "name 'im2' is not defined",
     "output_type": "error",
     "traceback": [
      "\u001b[1;31m---------------------------------------------------------------------------\u001b[0m",
      "\u001b[1;31mNameError\u001b[0m                                 Traceback (most recent call last)",
      "\u001b[1;32m~\\AppData\\Local\\Temp/ipykernel_3452/2427538587.py\u001b[0m in \u001b[0;36m<module>\u001b[1;34m\u001b[0m\n\u001b[1;32m----> 1\u001b[1;33m \u001b[0mplt\u001b[0m\u001b[1;33m.\u001b[0m\u001b[0mimshow\u001b[0m\u001b[1;33m(\u001b[0m\u001b[0mim2\u001b[0m\u001b[1;33m)\u001b[0m\u001b[1;33m\u001b[0m\u001b[1;33m\u001b[0m\u001b[0m\n\u001b[0m",
      "\u001b[1;31mNameError\u001b[0m: name 'im2' is not defined"
     ]
    }
   ],
   "source": [
    "plt.imshow(im2)"
   ]
  },
  {
   "cell_type": "code",
   "execution_count": 12,
   "metadata": {},
   "outputs": [
    {
     "ename": "NameError",
     "evalue": "name 'im1' is not defined",
     "output_type": "error",
     "traceback": [
      "\u001b[1;31m---------------------------------------------------------------------------\u001b[0m",
      "\u001b[1;31mNameError\u001b[0m                                 Traceback (most recent call last)",
      "\u001b[1;32m~\\AppData\\Local\\Temp/ipykernel_3452/186413293.py\u001b[0m in \u001b[0;36m<module>\u001b[1;34m\u001b[0m\n\u001b[1;32m----> 1\u001b[1;33m \u001b[0mim\u001b[0m \u001b[1;33m=\u001b[0m \u001b[0mim1\u001b[0m\u001b[1;33m\u001b[0m\u001b[1;33m\u001b[0m\u001b[0m\n\u001b[0m\u001b[0;32m      2\u001b[0m \u001b[1;32mdef\u001b[0m \u001b[0maffine_image\u001b[0m\u001b[1;33m(\u001b[0m\u001b[0ma1\u001b[0m\u001b[1;33m=\u001b[0m\u001b[1;36m0\u001b[0m\u001b[1;33m,\u001b[0m\u001b[0ms\u001b[0m\u001b[1;33m=\u001b[0m\u001b[1;36m1\u001b[0m\u001b[1;33m,\u001b[0m\u001b[0mtx\u001b[0m\u001b[1;33m=\u001b[0m\u001b[1;36m0\u001b[0m\u001b[1;33m,\u001b[0m\u001b[0mty\u001b[0m\u001b[1;33m=\u001b[0m\u001b[1;36m0\u001b[0m\u001b[1;33m,\u001b[0m \u001b[0malpha\u001b[0m\u001b[1;33m=\u001b[0m\u001b[1;36m1\u001b[0m\u001b[1;33m)\u001b[0m\u001b[1;33m:\u001b[0m\u001b[1;33m\u001b[0m\u001b[1;33m\u001b[0m\u001b[0m\n\u001b[0;32m      3\u001b[0m     \u001b[0mtheta\u001b[0m \u001b[1;33m=\u001b[0m \u001b[1;33m-\u001b[0m\u001b[0ma1\u001b[0m\u001b[1;33m/\u001b[0m\u001b[1;36m180\u001b[0m  \u001b[1;33m*\u001b[0m \u001b[0mmath\u001b[0m\u001b[1;33m.\u001b[0m\u001b[0mpi\u001b[0m\u001b[1;33m\u001b[0m\u001b[1;33m\u001b[0m\u001b[0m\n\u001b[0;32m      4\u001b[0m \u001b[1;33m\u001b[0m\u001b[0m\n\u001b[0;32m      5\u001b[0m     \u001b[0mdx\u001b[0m \u001b[1;33m=\u001b[0m \u001b[0mtx\u001b[0m\u001b[1;33m*\u001b[0m\u001b[0mim\u001b[0m\u001b[1;33m.\u001b[0m\u001b[0mshape\u001b[0m\u001b[1;33m[\u001b[0m\u001b[1;36m1\u001b[0m\u001b[1;33m]\u001b[0m\u001b[1;33m\u001b[0m\u001b[1;33m\u001b[0m\u001b[0m\n",
      "\u001b[1;31mNameError\u001b[0m: name 'im1' is not defined"
     ]
    }
   ],
   "source": [
    "im = im1\n",
    "def affine_image(a1=0,s=1,tx=0,ty=0, alpha=1):\n",
    "    theta = -a1/180  * math.pi\n",
    "    \n",
    "    dx = tx*im.shape[1]\n",
    "    dy = ty*im.shape[0]\n",
    "    S = np.matrix([[1/s,0,0], [0,1/s,0], [0,0,1]])\n",
    "    T2 = np.matrix([[1,0,im.shape[1]/2], [0,1,im.shape[0]/2], [0,0,1]])\n",
    "    T1 = np.matrix([[1,0,-im.shape[1]/2-dx], [0,1,-im.shape[0]/2-dy], [0,0,1]])\n",
    "    R = np.matrix([[math.cos(theta),-math.sin(theta),0],[math.sin(theta), math.cos(theta),0],[0,0,1]])\n",
    "    img = transform.warp(im, T2*S*R*T1);\n",
    "    plt.imshow(im2);\n",
    "    plt.imshow(img, alpha=alpha);\n",
    "\n",
    "    plt.show();"
   ]
  },
  {
   "cell_type": "code",
   "execution_count": null,
   "metadata": {},
   "outputs": [],
   "source": [
    "interact(affine_image, a1=(-180,180), s=(0.001,5), tx=(-1.0,1.0), ty=(-1,1,0.1),alpha=(0.0,1.0)); ##TODO: Modify this line of code"
   ]
  },
  {
   "cell_type": "code",
   "execution_count": null,
   "metadata": {
    "collapsed": true
   },
   "outputs": [],
   "source": []
  },
  {
   "cell_type": "code",
   "execution_count": null,
   "metadata": {
    "collapsed": true
   },
   "outputs": [],
   "source": []
  },
  {
   "cell_type": "code",
   "execution_count": null,
   "metadata": {
    "collapsed": true
   },
   "outputs": [],
   "source": [
    "# Here are some libraries you may need to use\n",
    "%matplotlib inline\n",
    "import matplotlib.pylab as plt\n",
    "\n",
    "import sympy as sp\n",
    "sp.init_printing()\n",
    "\n",
    "import numpy as np\n",
    "\n",
    "from ipywidgets import interact\n",
    "import math\n"
   ]
  },
  {
   "cell_type": "code",
   "execution_count": null,
   "metadata": {},
   "outputs": [],
   "source": [
    "from urllib.request import urlopen\n",
    "from scipy.misc import imread, imsave\n",
    "\n",
    "url = 'http://res.cloudinary.com/miles-extranet-dev/image/upload/ar_16:9,c_fill,w_1000,g_face,q_50/Michigan/migration_photos/G21696/G21696-msubeaumonttower01.jpg'\n",
    "\n",
    "with urlopen(url) as file:\n",
    "    im = imread(file, mode='RGB')\n",
    "    \n",
    "#Show the image\n",
    "plt.imshow(im);"
   ]
  },
  {
   "cell_type": "code",
   "execution_count": null,
   "metadata": {
    "collapsed": true
   },
   "outputs": [],
   "source": [
    "##Put your function here\n",
    "from skimage import transform\n",
    "\n",
    "def affine_image(a1=0,s=0.5,tx=0,ty=0,shx=0, shy=0):\n",
    "    T = np.matrix([[1,0,0],[0,1,0],[0,0,1]])\n",
    "    #Your transformations go here.\n",
    "    \n",
    "    img = transform.warp(im, T);\n",
    "    plt.imshow(img);\n",
    "    plt.show();"
   ]
  },
  {
   "cell_type": "code",
   "execution_count": null,
   "metadata": {
    "collapsed": true
   },
   "outputs": [],
   "source": [
    "\n",
    "##ANSWER##\n",
    "\n",
    "def affine_image(a1=0,s=0.5,tx=0,ty=0, shx=0, shy=0):\n",
    "    theta = -a1/180  * math.pi\n",
    "    \n",
    "    dx = tx*im.shape[1]\n",
    "    dy = ty*im.shape[0]\n",
    "    S = np.matrix([[1/s,0,0], [0,1/s,0], [0,0,1]])\n",
    "    SH = np.matrix([[1,shx,0], [shy,1,0], [0,0,1]])\n",
    "    T2 = np.matrix([[1,0,im.shape[1]/2], [0,1,im.shape[0]/2], [0,0,1]])\n",
    "    T1 = np.matrix([[1,0,-im.shape[1]/2-dx], [0,1,-im.shape[0]/2-dy], [0,0,1]])\n",
    "    R = np.matrix([[math.cos(theta),-math.sin(theta),0],[math.sin(theta), math.cos(theta),0],[0,0,1]])\n",
    "    img = transform.warp(im, T2*S*R*SH*T1);\n",
    "    plt.imshow(img);\n",
    "\n",
    "    plt.show();\n",
    "##ANSWER##"
   ]
  },
  {
   "cell_type": "code",
   "execution_count": null,
   "metadata": {},
   "outputs": [],
   "source": [
    "\n",
    "interact(affine_image, a1=(-180,180), s=(0.001,5), tx=(-1,1,0.1), ty=(-1,1,0.1), shx = (-1,1,0.1), shy = (-1,1,0.1)); ##TODO: Modify this line of code"
   ]
  },
  {
   "cell_type": "code",
   "execution_count": null,
   "metadata": {
    "scrolled": false
   },
   "outputs": [],
   "source": [
    "from IPython.display import YouTubeVideo\n",
    "YouTubeVideo(\"NzysdpexqsM\",width=640,height=360)"
   ]
  },
  {
   "cell_type": "markdown",
   "metadata": {},
   "source": [
    "**Quesiton:** Ask a question that requires a written answer?"
   ]
  },
  {
   "cell_type": "markdown",
   "metadata": {},
   "source": [
    "<font size=8 color=\"#009600\">&#9998;</font> Do This - Erase the contents of this cell and replace it with your answer to the above question!  (double-click on this text to edit this cell, and hit shift+enter to save the text)"
   ]
  },
  {
   "cell_type": "markdown",
   "metadata": {},
   "source": [
    " &#9989; **To Do:** Task to be completed by student."
   ]
  },
  {
   "cell_type": "code",
   "execution_count": null,
   "metadata": {
    "collapsed": true
   },
   "outputs": [],
   "source": [
    "%matplotlib inline\n",
    "import matplotlib.pylab as plt\n",
    "import numpy as np\n",
    "import sympy as sp\n",
    "sp.init_printing(use_unicode=True)"
   ]
  },
  {
   "cell_type": "code",
   "execution_count": null,
   "metadata": {},
   "outputs": [],
   "source": [
    "#Example matrix in sympy\n",
    "sp.Matrix([[1,0], [0,1]])"
   ]
  },
  {
   "cell_type": "code",
   "execution_count": null,
   "metadata": {},
   "outputs": [],
   "source": [
    "#Example equation in sympy\n",
    "#First define all of the symples to use in our equation\n",
    "x,y,z,om = sp.symbols('x, y, z, \\omega', negative=False)\n",
    "pa = om*x**2+om*y**2+om*z**2\n",
    "pa"
   ]
  },
  {
   "cell_type": "code",
   "execution_count": null,
   "metadata": {
    "collapsed": true
   },
   "outputs": [],
   "source": [
    "#Put your code here"
   ]
  },
  {
   "cell_type": "markdown",
   "metadata": {},
   "source": [
    "Example matrix notation:\n",
    "\n",
    "$$ \n",
    "\\left[\n",
    "\\begin{matrix}\n",
    "    1   & 0 & 4  \\\\\n",
    "    0   & 2 & -2  \\\\\n",
    "    0   & 1 & 2 \n",
    " \\end{matrix}\n",
    "\\, \\middle\\vert \\,\n",
    "\\begin{matrix}\n",
    "-10 \\\\ 3 \\\\ 1\n",
    "\\end{matrix}\n",
    "\\right] \n",
    "$$"
   ]
  },
  {
   "cell_type": "markdown",
   "metadata": {},
   "source": [
    "----\n",
    "# 2. Assignment wrap-up\n",
    "\n",
    "Please fill out the form that appears when you run the code below.  **You must completely fill this out in order to receive credit for the assignment!**\n",
    "\n",
    "Direct Link: https://goo.gl/YcjHHB"
   ]
  },
  {
   "cell_type": "code",
   "execution_count": null,
   "metadata": {},
   "outputs": [],
   "source": [
    "from IPython.display import HTML\n",
    "HTML(\n",
    "\"\"\"\n",
    "<iframe \n",
    "\tsrc=\"https://goo.gl/YcjHHB?embedded=true\" \n",
    "\twidth=\"80%\" \n",
    "\theight=\"1200px\" \n",
    "\tframeborder=\"0\" \n",
    "\tmarginheight=\"0\" \n",
    "\tmarginwidth=\"0\">\n",
    "\tLoading...\n",
    "</iframe>\n",
    "\"\"\"\n",
    ")"
   ]
  },
  {
   "cell_type": "markdown",
   "metadata": {},
   "source": [
    "---------\n",
    "### Congratulations, you're done with your pre-class assignment!"
   ]
  },
  {
   "cell_type": "markdown",
   "metadata": {},
   "source": [
    "&#169; Copyright 2018,  Michigan State University Board of Trustees"
   ]
  }
 ],
 "metadata": {
  "anaconda-cloud": {},
  "kernelspec": {
   "display_name": "Python 3 (ipykernel)",
   "language": "python",
   "name": "python3"
  },
  "language_info": {
   "codemirror_mode": {
    "name": "ipython",
    "version": 3
   },
   "file_extension": ".py",
   "mimetype": "text/x-python",
   "name": "python",
   "nbconvert_exporter": "python",
   "pygments_lexer": "ipython3",
   "version": "3.9.6"
  }
 },
 "nbformat": 4,
 "nbformat_minor": 1
}
