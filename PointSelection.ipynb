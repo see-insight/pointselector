{
 "cells": [
  {
   "cell_type": "markdown",
   "id": "db3ef99f",
   "metadata": {},
   "source": [
    "## Point Selection"
   ]
  },
  {
   "cell_type": "markdown",
   "id": "53fe4a14",
   "metadata": {},
   "source": [
    "Importing Python libraries:"
   ]
  },
  {
   "cell_type": "code",
   "execution_count": 1,
   "id": "20d3b43a",
   "metadata": {},
   "outputs": [],
   "source": [
    "import cv2\n",
    "import numpy as np\n",
    "import matplotlib.pyplot as plt\n",
    "import matplotlib.image as mpimg\n",
    "import ipywidgets as widgets"
   ]
  },
  {
   "cell_type": "markdown",
   "id": "9c594cc4",
   "metadata": {},
   "source": [
    "Reading image:"
   ]
  },
  {
   "cell_type": "code",
   "execution_count": 2,
   "id": "5993c9fa",
   "metadata": {},
   "outputs": [],
   "source": [
    "# fig = plt.figure(figsize=(50,70))\n",
    "image = cv2.imread('balloonfiesta.jpeg')\n",
    "resized_image = cv2.resize(image, (800,500))\n"
   ]
  },
  {
   "cell_type": "code",
   "execution_count": 3,
   "id": "6b5565cc",
   "metadata": {},
   "outputs": [
    {
     "name": "stdout",
     "output_type": "stream",
     "text": [
      "311, 227\n",
      "432, 141\n",
      "533, 197\n",
      "452, 273\n",
      "354, 198\n"
     ]
    }
   ],
   "source": [
    "from PointSelection import pickpoints\n",
    "points = pickpoints(resized_image, n=5)"
   ]
  },
  {
   "cell_type": "markdown",
   "id": "7b80f974",
   "metadata": {},
   "source": [
    "Function for detecting clicks on image and putting them in circle matrix:"
   ]
  },
  {
   "cell_type": "code",
   "execution_count": null,
   "id": "61dad57f",
   "metadata": {},
   "outputs": [],
   "source": [
    "def detectPoints(event,x,y,flags,params):\n",
    "    global counter\n",
    "    if event == cv2.EVENT_LBUTTONDOWN:\n",
    "        circles[counter] = x,y\n",
    "        counter = counter + 1\n",
    "        print(circles)\n",
    "        \n",
    "# cid = fig.canvas.mpl_connect('button_press_event', detectPoints)\n",
    "\n",
    "# imgplot = plt.imshow(image)\n",
    "# plt.show()"
   ]
  },
  {
   "cell_type": "markdown",
   "id": "c5d5909d",
   "metadata": {},
   "source": [
    "Perform Template Matching once 4 points has been detected:"
   ]
  },
  {
   "cell_type": "code",
   "execution_count": null,
   "id": "2ae492c6",
   "metadata": {},
   "outputs": [],
   "source": [
    "# while True:\n",
    "#     if counter == 4:\n",
    "#         width, height = 250,350\n",
    "#         pts1 = np.float32([circles[0],circles[1],circles[2],circles[3]])\n",
    "#         pts2 = np.float32([[0,0], [width,0], [0,height], [width,height]])\n",
    "#         matrix = cv2.getPerspectiveTransform(pts1,pts2)\n",
    "#         imgOutput = cv2.warpPerspective(resized_image,matrix,(width,height))\n",
    "#         cv2.imshow(\"Output Image\", imgOutput)\n",
    "        \n",
    "#     for x in range(0,4):\n",
    "#         cv2.circle(resized_image,(circles[x][0], circles[x][1]),3,(0,255,0),cv2.FILLED)\n",
    "        \n",
    "#     cv2.imshow(\"Original\", resized_image)\n",
    "#     cv2.setMouseCallback(\"Original\", detectPoints)\n",
    "#     cv2.waitKey(1)"
   ]
  },
  {
   "cell_type": "code",
   "execution_count": null,
   "id": "7e9cdd67",
   "metadata": {},
   "outputs": [],
   "source": [
    "# cv2.imshow(\"Original\", resized_image)\n",
    "# cv2.setMouseCallback(\"Original\", detectPoints)\n",
    "# cv2.waitKey(1)\n",
    "# cv2.waitKey(1)\n",
    "\n",
    "# imgOutput = resized_image[circles[0]-10:circles[0]+10, circles[1]-10:circles[1]+10]\n",
    "# cv2.imshow(\"Output Image\", imgOutput)"
   ]
  },
  {
   "cell_type": "code",
   "execution_count": null,
   "id": "dad87a5b",
   "metadata": {},
   "outputs": [],
   "source": [
    "circles"
   ]
  },
  {
   "cell_type": "code",
   "execution_count": null,
   "id": "1f53b8ed",
   "metadata": {},
   "outputs": [],
   "source": [
    "half_window = 100\n",
    "counter = 0\n",
    "while True:\n",
    "    if counter == 1:\n",
    "        template = resized_image[circles[0,1]-half_window:circles[0,1]+half_window, circles[0,0]-half_window:circles[0,0]+half_window, :]\n",
    "        cv2.imshow(\"Output Image\", template)\n",
    "        counter = 0\n",
    "        \n",
    "    cv2.imshow(\"Original\", resized_image)\n",
    "    cv2.setMouseCallback(\"Original\", detectPoints)\n",
    "    cv2.waitKey(1)\n",
    "\n",
    "\n",
    "# cv2.imshow(\"Original\", resized_image)\n",
    "# cv2.setMouseCallback(\"Original\", detectPoints)\n",
    "# cv2.waitKey(1)\n"
   ]
  },
  {
   "cell_type": "code",
   "execution_count": null,
   "id": "9a93da2d",
   "metadata": {},
   "outputs": [],
   "source": [
    "circles[0,0]"
   ]
  },
  {
   "cell_type": "code",
   "execution_count": null,
   "id": "0302abcc",
   "metadata": {},
   "outputs": [],
   "source": [
    "template"
   ]
  },
  {
   "cell_type": "code",
   "execution_count": null,
   "id": "6fd24ee1",
   "metadata": {},
   "outputs": [],
   "source": [
    "resized_image"
   ]
  },
  {
   "cell_type": "code",
   "execution_count": null,
   "id": "2a29489c",
   "metadata": {},
   "outputs": [],
   "source": []
  }
 ],
 "metadata": {
  "kernelspec": {
   "display_name": "Python 3 (ipykernel)",
   "language": "python",
   "name": "python3"
  },
  "language_info": {
   "codemirror_mode": {
    "name": "ipython",
    "version": 3
   },
   "file_extension": ".py",
   "mimetype": "text/x-python",
   "name": "python",
   "nbconvert_exporter": "python",
   "pygments_lexer": "ipython3",
   "version": "3.9.7"
  }
 },
 "nbformat": 4,
 "nbformat_minor": 5
}
