{
 "cells": [
  {
   "cell_type": "markdown",
   "id": "db3ef99f",
   "metadata": {},
   "source": [
    "## Point Selection"
   ]
  },
  {
   "cell_type": "markdown",
   "id": "53fe4a14",
   "metadata": {},
   "source": [
    "Importing Python libraries:"
   ]
  },
  {
   "cell_type": "code",
   "execution_count": 1,
   "id": "20d3b43a",
   "metadata": {},
   "outputs": [],
   "source": [
    "import cv2\n",
    "import numpy as np\n",
    "import matplotlib.pyplot as plt\n",
    "import matplotlib.image as mpimg\n",
    "import ipywidgets as widgets"
   ]
  },
  {
   "cell_type": "markdown",
   "id": "9c594cc4",
   "metadata": {},
   "source": [
    "Reading image:"
   ]
  },
  {
   "cell_type": "code",
   "execution_count": 2,
   "id": "5993c9fa",
   "metadata": {},
   "outputs": [],
   "source": [
    "# fig = plt.figure(figsize=(50,70))\n",
    "image = cv2.imread('balloonfiesta.jpeg')\n",
    "resized_image = cv2.resize(image, (800,500))\n",
    "circles = np.zeros((1,2), int)\n",
    "counter = 0\n"
   ]
  },
  {
   "cell_type": "markdown",
   "id": "7b80f974",
   "metadata": {},
   "source": [
    "Function for detecting clicks on image and putting them in circle matrix:"
   ]
  },
  {
   "cell_type": "code",
   "execution_count": 3,
   "id": "61dad57f",
   "metadata": {},
   "outputs": [],
   "source": [
    "def detectPoints(event,x,y,flags,params):\n",
    "    global counter\n",
    "    if event == cv2.EVENT_LBUTTONDOWN:\n",
    "        circles[counter] = x,y\n",
    "        counter = counter + 1\n",
    "        print(circles)\n",
    "        \n",
    "# cid = fig.canvas.mpl_connect('button_press_event', detectPoints)\n",
    "\n",
    "# imgplot = plt.imshow(image)\n",
    "# plt.show()"
   ]
  },
  {
   "cell_type": "markdown",
   "id": "c5d5909d",
   "metadata": {},
   "source": [
    "Perform Template Matching once 4 points has been detected:"
   ]
  },
  {
   "cell_type": "code",
   "execution_count": 4,
   "id": "2ae492c6",
   "metadata": {},
   "outputs": [],
   "source": [
    "# while True:\n",
    "#     if counter == 4:\n",
    "#         width, height = 250,350\n",
    "#         pts1 = np.float32([circles[0],circles[1],circles[2],circles[3]])\n",
    "#         pts2 = np.float32([[0,0], [width,0], [0,height], [width,height]])\n",
    "#         matrix = cv2.getPerspectiveTransform(pts1,pts2)\n",
    "#         imgOutput = cv2.warpPerspective(resized_image,matrix,(width,height))\n",
    "#         cv2.imshow(\"Output Image\", imgOutput)\n",
    "        \n",
    "#     for x in range(0,4):\n",
    "#         cv2.circle(resized_image,(circles[x][0], circles[x][1]),3,(0,255,0),cv2.FILLED)\n",
    "        \n",
    "#     cv2.imshow(\"Original\", resized_image)\n",
    "#     cv2.setMouseCallback(\"Original\", detectPoints)\n",
    "#     cv2.waitKey(1)"
   ]
  },
  {
   "cell_type": "code",
   "execution_count": 5,
   "id": "7e9cdd67",
   "metadata": {},
   "outputs": [],
   "source": [
    "# cv2.imshow(\"Original\", resized_image)\n",
    "# cv2.setMouseCallback(\"Original\", detectPoints)\n",
    "# cv2.waitKey(1)\n",
    "# cv2.waitKey(1)\n",
    "\n",
    "# imgOutput = resized_image[circles[0]-10:circles[0]+10, circles[1]-10:circles[1]+10]\n",
    "# cv2.imshow(\"Output Image\", imgOutput)"
   ]
  },
  {
   "cell_type": "code",
   "execution_count": 6,
   "id": "dad87a5b",
   "metadata": {},
   "outputs": [
    {
     "data": {
      "text/plain": [
       "array([[0, 0]])"
      ]
     },
     "execution_count": 6,
     "metadata": {},
     "output_type": "execute_result"
    }
   ],
   "source": [
    "circles"
   ]
  },
  {
   "cell_type": "code",
   "execution_count": 7,
   "id": "1f53b8ed",
   "metadata": {},
   "outputs": [
    {
     "name": "stdout",
     "output_type": "stream",
     "text": [
      "[[328 231]]\n"
     ]
    },
    {
     "ename": "KeyboardInterrupt",
     "evalue": "",
     "output_type": "error",
     "traceback": [
      "\u001b[1;31m---------------------------------------------------------------------------\u001b[0m",
      "\u001b[1;31mKeyboardInterrupt\u001b[0m                         Traceback (most recent call last)",
      "\u001b[1;32m~\\AppData\\Local\\Temp/ipykernel_7864/1403784229.py\u001b[0m in \u001b[0;36m<module>\u001b[1;34m\u001b[0m\n\u001b[0;32m      9\u001b[0m     \u001b[0mcv2\u001b[0m\u001b[1;33m.\u001b[0m\u001b[0mimshow\u001b[0m\u001b[1;33m(\u001b[0m\u001b[1;34m\"Original\"\u001b[0m\u001b[1;33m,\u001b[0m \u001b[0mresized_image\u001b[0m\u001b[1;33m)\u001b[0m\u001b[1;33m\u001b[0m\u001b[1;33m\u001b[0m\u001b[0m\n\u001b[0;32m     10\u001b[0m     \u001b[0mcv2\u001b[0m\u001b[1;33m.\u001b[0m\u001b[0msetMouseCallback\u001b[0m\u001b[1;33m(\u001b[0m\u001b[1;34m\"Original\"\u001b[0m\u001b[1;33m,\u001b[0m \u001b[0mdetectPoints\u001b[0m\u001b[1;33m)\u001b[0m\u001b[1;33m\u001b[0m\u001b[1;33m\u001b[0m\u001b[0m\n\u001b[1;32m---> 11\u001b[1;33m     \u001b[0mcv2\u001b[0m\u001b[1;33m.\u001b[0m\u001b[0mwaitKey\u001b[0m\u001b[1;33m(\u001b[0m\u001b[1;36m1\u001b[0m\u001b[1;33m)\u001b[0m\u001b[1;33m\u001b[0m\u001b[1;33m\u001b[0m\u001b[0m\n\u001b[0m\u001b[0;32m     12\u001b[0m \u001b[1;33m\u001b[0m\u001b[0m\n\u001b[0;32m     13\u001b[0m \u001b[1;33m\u001b[0m\u001b[0m\n",
      "\u001b[1;31mKeyboardInterrupt\u001b[0m: "
     ]
    }
   ],
   "source": [
    "half_window = 100\n",
    "counter = 0\n",
    "while True:\n",
    "    if counter == 1:\n",
    "        template = resized_image[circles[0,1]-half_window:circles[0,1]+half_window, circles[0,0]-half_window:circles[0,0]+half_window, :]\n",
    "        cv2.imshow(\"Output Image\", template)\n",
    "        counter = 0\n",
    "        \n",
    "    cv2.imshow(\"Original\", resized_image)\n",
    "    cv2.setMouseCallback(\"Original\", detectPoints)\n",
    "    cv2.waitKey(1)\n",
    "\n",
    "\n",
    "# cv2.imshow(\"Original\", resized_image)\n",
    "# cv2.setMouseCallback(\"Original\", detectPoints)\n",
    "# cv2.waitKey(1)\n"
   ]
  },
  {
   "cell_type": "code",
   "execution_count": null,
   "id": "9a93da2d",
   "metadata": {},
   "outputs": [],
   "source": [
    "circles[0,0]"
   ]
  },
  {
   "cell_type": "code",
   "execution_count": null,
   "id": "0302abcc",
   "metadata": {},
   "outputs": [],
   "source": [
    "template"
   ]
  },
  {
   "cell_type": "code",
   "execution_count": null,
   "id": "6fd24ee1",
   "metadata": {},
   "outputs": [],
   "source": [
    "resized_image"
   ]
  },
  {
   "cell_type": "code",
   "execution_count": null,
   "id": "2a29489c",
   "metadata": {},
   "outputs": [],
   "source": []
  }
 ],
 "metadata": {
  "kernelspec": {
   "display_name": "Python 3 (ipykernel)",
   "language": "python",
   "name": "python3"
  },
  "language_info": {
   "codemirror_mode": {
    "name": "ipython",
    "version": 3
   },
   "file_extension": ".py",
   "mimetype": "text/x-python",
   "name": "python",
   "nbconvert_exporter": "python",
   "pygments_lexer": "ipython3",
   "version": "3.9.7"
  }
 },
 "nbformat": 4,
 "nbformat_minor": 5
}
